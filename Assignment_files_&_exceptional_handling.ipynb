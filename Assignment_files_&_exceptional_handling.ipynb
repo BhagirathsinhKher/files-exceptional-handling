{
  "nbformat": 4,
  "nbformat_minor": 0,
  "metadata": {
    "colab": {
      "provenance": [],
      "collapsed_sections": [
        "vEE1HPSKzjIJ"
      ]
    },
    "kernelspec": {
      "name": "python3",
      "display_name": "Python 3"
    },
    "language_info": {
      "name": "python"
    }
  },
  "cells": [
    {
      "cell_type": "markdown",
      "source": [
        "#Files, exceptional handling, logging and memory management Questions"
      ],
      "metadata": {
        "id": "xmNM8BORy_20"
      }
    },
    {
      "cell_type": "markdown",
      "source": [
        "###Theoritical Questions:"
      ],
      "metadata": {
        "id": "vEE1HPSKzjIJ"
      }
    },
    {
      "cell_type": "markdown",
      "source": [
        "**1. What is the difference between interpreted and compiled languages?**\n",
        "\n",
        "**Ans.**\n",
        "\n",
        "- Compiled Languages: The source code is translated into machine code (binary) by a compiler before execution. The machine code is directly executed by the computer's CPU.\n",
        "Example: C, C++, Go, Rust.\n",
        "\n",
        "- Interpreted Languages: The source code is executed line-by-line by an interpreter at runtime, without converting the entire code into machine language beforehand.\n",
        "Example: Python, JavaScript, PHP, Ruby\n",
        "\n",
        "---\n",
        "\n",
        "**2. What is exception handling in Python?**\n",
        "\n",
        "**Ans.**\n",
        "\n",
        "- *Exception Handling in Python*\n",
        ">Exception Handling in Python is a mechanism that allows you to detect, handle, and respond to errors (known as exceptions) that occur during the execution of a program. It helps prevent the program from crashing and allows for graceful error recovery.\n",
        "\n",
        "- *What is an Exception?*\n",
        "An exception is an event that disrupts the normal flow of a program. It occurs when Python encounters an error, such as:\n",
        ">- Dividing by zero (ZeroDivisionError)\n",
        ">- Accessing an undefined variable (NameError)\n",
        ">- Invalid data type operations (TypeError)\n",
        ">- File not found errors (FileNotFoundError)\n",
        "\n",
        "- *Exception Handling Keywords in Python:*\n",
        ">- try: The block where you write code that may raise an exception.\n",
        ">- except: The block that handles the exception if it occurs.\n",
        ">- else (optional): Executes if no exception occurs in the try block.\n",
        ">- finally (optional): Executes no matter what—whether an exception occurs or not.\n",
        "---\n",
        "\n",
        "**3. What is the purpose of the finally block in exception handling?**\n",
        "\n",
        "**Ans.**\n",
        "\n",
        "- The finally block in Python is used to define code that must be executed, regardless of whether an exception was raised or not. Its primary purpose is to handle cleanup actions like closing files, releasing resources, or resetting variables, ensuring that these operations always occur even if an error interrupts the program.\n",
        "\n",
        "- *Key Features of the finally Block:*\n",
        ">- Always Executes: Runs whether an exception is raised, caught, or even if there's a return statement in the try or except block.\n",
        ">- Resource Cleanup: Ideal for tasks like closing files, database connections, or releasing memory.\n",
        ">- Optional but Useful: You don’t always need it, but it’s critical when resource management is involved.\n",
        "---\n",
        "\n",
        "**4.What is logging in Python?**\n",
        "\n",
        "**Ans.**\n",
        "\n",
        "- Logging in Python is the process of recording messages or events that occur during the execution of a program. These messages help developers track the flow of the program, debug issues, and monitor system behavior without interrupting the program's execution.\n",
        "\n",
        "- Python provides a built-in logging module that makes it easy to log messages with different levels of importance.\n",
        "\n",
        "---\n",
        "\n",
        "**5.What is the significance of the __del__ method in Python?**\n",
        "\n",
        "**Ans.**\n",
        "\n",
        "- The __del__ method in Python is a special (magic) method known as a destructor. It is automatically called when an object is about to be destroyed, i.e., when it is no longer in use, and its memory is ready to be deallocated by the garbage collector.\n",
        "\n",
        "---\n",
        "\n",
        "**6.What is the difference between import and from ... import in Python?**\n",
        "\n",
        "**Ans.**\n",
        "\n",
        " ![image.png](data:image/png;base64,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)\n",
        "\n",
        "---\n",
        "\n",
        "**7.How can you handle multiple exceptions in Python?**\n",
        "\n",
        "**Ans.**\n",
        "\n",
        "- In Python, you can handle multiple exceptions using the try-except block. This is useful when different types of errors might occur, and you want to handle each of them appropriately.\n",
        "1. Handling Multiple Exceptions with Multiple except Blocks\n",
        "\n",
        "```\n",
        "try:\n",
        "    x = int(input(\"Enter a number: \"))\n",
        "    result = 10 / x\n",
        "except ValueError:\n",
        "    print(\"Invalid input! Please enter a valid number.\")\n",
        "except ZeroDivisionError:\n",
        "    print(\"Cannot divide by zero!\")\n",
        "except Exception as e:\n",
        "    print(f\"An unexpected error occurred: {e}\")\n",
        "print(result)\n",
        "```\n",
        "2. Handling Multiple Exceptions in a Single except Block\n",
        "\n",
        "```\n",
        "try:\n",
        "    data = int(\"abc\")  # This will cause a ValueError\n",
        "    result = 10 / 0    # This will cause a ZeroDivisionError\n",
        "except (ValueError, ZeroDivisionError) as e:\n",
        "    print(f\"An error occurred: {e}\")\n",
        "\n",
        "```\n",
        "\n",
        "3. Using else with try-except\n",
        "\n",
        "```\n",
        "try:\n",
        "    x = 5\n",
        "    y = 2\n",
        "    result = x / y\n",
        "except ZeroDivisionError:\n",
        "    print(\"Cannot divide by zero!\")\n",
        "else:\n",
        "    print(f\"Division successful: {result}\")\n",
        "\n",
        "```\n",
        "---\n",
        "\n",
        "**8.What is the purpose of the with statement when handling files in Python?**\n",
        "\n",
        "**Ans**\n",
        "\n",
        "- The with statement in Python is used to simplify resource management, especially when working with files. It ensures that resources like files are properly opened, used, and automatically closed, even if an error occurs during processing.\n",
        "\n",
        "---\n"
      ],
      "metadata": {
        "id": "flsKMk3qzLkJ"
      }
    },
    {
      "cell_type": "markdown",
      "source": [
        "**9.What is the difference between multithreading and multiprocessing?**\n",
        "\n",
        "**Ans.**\n",
        "\n",
        "![image.png](data:image/png;base64,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)\n",
        "\n",
        "---"
      ],
      "metadata": {
        "id": "AvwL_aDY-na0"
      }
    },
    {
      "cell_type": "markdown",
      "source": [
        "**10.What are the advantages of using logging in a program?**\n",
        "\n",
        "**Ans.**\n",
        "\n",
        "- Logging is a powerful tool in Python (via the logging module) that helps track events that happen when your code runs. It’s especially useful for debugging, monitoring, and maintaining applications.\n",
        "\n",
        "![image.png](data:image/png;base64,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)\n",
        "\n",
        "---\n",
        "\n"
      ],
      "metadata": {
        "id": "hWIp6VOHBi-X"
      }
    },
    {
      "cell_type": "markdown",
      "source": [
        "**11.What is memory management in Python?**\n",
        "\n",
        "**Ans.**\n",
        "\n",
        "- Memory management in Python refers to the process of allocating, managing, and freeing memory used by variables, objects, and data structures during program execution. Python’s memory management is automatic, meaning developers don’t have to manually allocate or deallocate memory as in languages like C or C++.\n",
        "\n",
        "---\n",
        "\n",
        "**12.What are the basic steps involved in exception handling in Python?**\n",
        "\n",
        "**Ans.**\n",
        "\n",
        "1. Try Block (try)\n",
        "```\n",
        "try:\n",
        "    result = 10 / 0  # Risky code (division by zero)\n",
        "```\n",
        "\n",
        "2. Except Block (except)\n",
        "```\n",
        "try:\n",
        "    result = 10 / 0\n",
        "except ZeroDivisionError:\n",
        "    print(\"You can't divide by zero!\")\n",
        "```\n",
        "\n",
        "3. Else Block (else)\n",
        "```\n",
        "try:\n",
        "    result = 10 / 2\n",
        "except ZeroDivisionError:\n",
        "    print(\"Error occurred.\")\n",
        "else:\n",
        "    print(\"Success:\", result)\n",
        "```\n",
        "\n",
        "4. Finally Block (finally)\n",
        "```\n",
        "try:\n",
        "    file = open('sample.txt', 'r')\n",
        "    data = file.read()\n",
        "except FileNotFoundError:\n",
        "    print(\"File not found!\")\n",
        "finally:\n",
        "    print(\"Cleaning up: Closing file.\")\n",
        "    file.close()  # Always executed\n",
        "```\n",
        "---\n",
        "\n",
        "**13.Why is memory management important in Python?**\n",
        "\n",
        "**Ans.**\n",
        "\n",
        "- Memory management is crucial in Python to ensure that programs run efficiently, use resources wisely, and avoid crashes or slowdowns. Since Python handles memory automatically, understanding its importance helps developers write optimized, stable, and scalable code.\n",
        "\n",
        "![image.png](data:image/png;base64,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)\n",
        "\n",
        "---"
      ],
      "metadata": {
        "id": "iiJGj-5oC-pp"
      }
    },
    {
      "cell_type": "markdown",
      "source": [
        "**14.What is the role of try and except in exception handling?**\n",
        "\n",
        "**Ans.**\n",
        "\n",
        "- try Block: Identifying Risky Code\n",
        "> The try block contains code that might raise an exception. Python attempts to execute the code inside this block.\n",
        "```\n",
        "try:\n",
        "    result = 10 / 0  # Risky code: Division by zero\n",
        "```\n",
        "\n",
        "- except Block: Handling Errors\n",
        "> The except block catches and handles exceptions that occur in the try block.\n",
        "```\n",
        "try:\n",
        "    result = 10 / 0\n",
        "except ZeroDivisionError:\n",
        "    print(\"Error: Cannot divide by zero!\")  # Handling the exception\n",
        "```\n",
        "---\n",
        "\n",
        "**15.How does Python's garbage collection system work?**\n",
        "\n",
        "**Ans.**\n",
        "\n",
        "- Python’s Garbage Collection (GC) system automatically manages memory by identifying and reclaiming unused objects to free up space. This helps prevent memory leaks and ensures efficient memory usage without manual intervention.\n",
        "---\n",
        "\n",
        "**16. What is the purpose of the else block in exception handling?**\n",
        "\n",
        "**Ans.**\n",
        "\n",
        "- In Python, the else block in exception handling is used to define code that should run only if no exceptions occur in the try block. It provides a clean way to separate the error-handling logic from the normal execution flow.\n",
        "---\n",
        "\n",
        "**17.What are the common logging levels in Python?**\n",
        "\n",
        "**Ans.**\n",
        "\n",
        "- In Python, the logging module provides several standard logging levels that indicate the severity of events. Here are the common logging levels, from the most critical to the least:\n",
        "\n",
        "1. CRITICAL (50): Indicates a very serious error that may prevent the program from continuing (e.g., system failure).\n",
        "Example: logging.critical(\"System crash imminent!\")\n",
        "\n",
        "2. ERROR (40): Indicates a more serious problem that has caused the program to fail in some way.\n",
        "Example: logging.error(\"Failed to open file\")\n",
        "\n",
        "3. WARNING (30): Flags a potential issue that isn’t immediately harmful but could lead to problems later.\n",
        "Example: logging.warning(\"Deprecated API usage\")\n",
        "\n",
        "4. INFO (20): Provides general information about the program’s execution (e.g., progress updates).Example: logging.info(\"User login successful\")\n",
        "\n",
        "5. DEBUG (10): Used for detailed diagnostic information, helpful for debugging purposes.\n",
        "Example: logging.debug(\"Variable x has value 42\")\n",
        "\n",
        "6. NOTSET (0): The default level when no specific level is set. It allows all messages to be processed unless filtered by other handlers.\n",
        "---\n",
        "\n",
        "**18.What is the difference between os.fork() and multiprocessing in Python?**\n",
        "\n",
        "**Ans.**\n",
        "\n",
        "- The os.fork() and multiprocessing modules in Python are both used to create new processes, but they differ significantly in terms of functionality, portability, and ease of use.\n",
        "\n",
        "![image.png](data:image/png;base64,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)\n",
        "\n",
        "---\n"
      ],
      "metadata": {
        "id": "yT5P44-tF1Z3"
      }
    },
    {
      "cell_type": "markdown",
      "source": [
        "**19.What is the importance of closing a file in Python?**\n",
        "\n",
        "**Ans.**\n",
        "\n",
        "- When you work with files in Python, using functions like open(), it's crucial to close the file after you’ve finished reading or writing. This is done using the close() method.\n",
        "\n",
        "1. Releases System Resources:\n",
        ">- Every open file consumes system resources like file descriptors.\n",
        ">- If files are not closed, especially in programs that open many files, it can lead to resource leaks and system limitations.\n",
        "\n",
        "2. Data Integrity (Especially in Write Mode):\n",
        ">- When writing to a file, Python often buffers the data before actually writing it to disk.\n",
        ">- Not closing the file may result in data loss because the buffered data might not be flushed (saved) properly.\n",
        "\n",
        "3. Avoids File Corruption:\n",
        ">- Unclosed files during write operations can cause incomplete writes, leading to file corruption.\n",
        ">- This is critical in databases, log files, and large data files.\n",
        "\n",
        "4. Prevents Memory Leaks:\n",
        ">- Although Python has garbage collection, it’s not immediate. Open files may remain in memory longer than expected, leading to memory issues.\n",
        "\n",
        "5. File Locking Issues:\n",
        ">- Some systems lock files while they’re open. Not closing a file may prevent other programs from accessing it.\n",
        "\n",
        "---\n",
        "\n",
        "**20.What is the difference between file.read() and file.readline() in Python?**\n",
        "\n",
        "**Ans.**\n",
        "\n",
        "- When working with files in Python, both file.read() and file.readline() are used to read data from a file, but they differ in how much data they read and how they behave.\n",
        "\n",
        "![image.png](data:image/png;base64,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)\n",
        "\n",
        "---"
      ],
      "metadata": {
        "id": "27EGI85gLxsX"
      }
    },
    {
      "cell_type": "markdown",
      "source": [
        "**21.What is the logging module in Python used for?**\n",
        "\n",
        "**Ans.**\n",
        "\n",
        "- The logging module in Python is a built-in library used for tracking events that happen when a program runs. It helps in recording messages about the program’s execution, which can be useful for:\n",
        "1. Debugging\n",
        "2. Monitoring performance\n",
        "3. Error tracking\n",
        "4. Auditing activities\n",
        "\n",
        "- Instead of using print() statements for debugging, the logging module provides a flexible way to log messages with different severity levels and outputs.\n",
        "\n",
        "---\n",
        "\n",
        "**22.What is the os module in Python used for in file handling?**\n",
        "\n",
        "**Ans.**\n",
        "\n",
        "- The os module in Python is a built-in library that provides a way to interact with the operating system. It allows you to perform various file and directory operations, such as creating, deleting, navigating, and modifying files and folders.\n",
        "- While the open() function handles file reading and writing, the os module helps with file system management.\n",
        "\n",
        "![image.png](data:image/png;base64,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)\n",
        "\n",
        "---"
      ],
      "metadata": {
        "id": "uZa8RFdBNiH3"
      }
    },
    {
      "cell_type": "markdown",
      "source": [
        "**23.What are the challenges associated with memory management in Python?**\n",
        "\n",
        "**Ans**\n",
        "\n",
        "1. Garbage Collection Overhead\n",
        ">- Explanation:\n",
        "Python uses automatic garbage collection (GC) to free up memory that’s no longer needed. It relies on reference counting and a cyclic garbage collector to manage memory.\n",
        ">- Challenge:\n",
        ">1. Frequent GC cycles can cause performance overhead, especially if there are many small objects.\n",
        ">2.Pause times during GC can affect real-time applications.\n",
        "\n",
        "2.  Memory Leaks\n",
        ">- Explanation:\n",
        "A memory leak occurs when allocated memory is not released even though it’s no longer needed. While Python manages memory automatically, leaks can still happen.\n",
        ">- Common Causes:\n",
        ">1. Global variables holding references longer than necessary.\n",
        ">2. Circular references where objects reference each other, preventing garbage collection.\n",
        ">3. Caching issues where data isn’t cleared properly.\n",
        "\n",
        "3. High Memory Consumption\n",
        ">- Explanation:\n",
        "Python’s dynamic typing allows flexibility but can lead to higher memory usage compared to statically-typed languages like C++.\n",
        ">- Challenge:\n",
        ">1. Large objects (like big lists, dictionaries, or dataframes) consume more memory.\n",
        ">2. Inefficient data structures can bloat memory usage.\n",
        "\n",
        "---\n",
        "\n",
        "**24.How do you raise an exception manually in Python?**\n",
        "\n",
        "**Ans.**\n",
        "\n",
        "- In Python, you can manually raise an exception using the raise statement. This is useful when you want to signal an error condition intentionally, based on specific conditions in your code.\n",
        "```\n",
        "raise ExceptionType(\"Error message\")\n",
        "```\n",
        "\n",
        "---\n",
        "**25.Why is it important to use multithreading in certain applications?**\n",
        "\n",
        "**Ans.**\n",
        "\n",
        "- Multithreading is a technique where multiple threads run concurrently within a single process, allowing an application to perform multiple tasks simultaneously. This approach can significantly improve the performance, efficiency, and responsiveness of certain applications.\n",
        "\n",
        "---"
      ],
      "metadata": {
        "id": "NQVbam6QPArN"
      }
    },
    {
      "cell_type": "markdown",
      "source": [
        "###Practicle Questions:"
      ],
      "metadata": {
        "id": "X8JewDSvVYZe"
      }
    },
    {
      "cell_type": "code",
      "source": [
        "#1.How can you open a file for writing in Python and write a string to it?\n",
        "# Open a file named 'example.txt' in write mode\n",
        "with open('example.txt', 'w') as file:\n",
        "    # Write a string to the file\n",
        "    file.write('Hello, PWSkills.')\n"
      ],
      "metadata": {
        "id": "52BKzDfzVkQs"
      },
      "execution_count": 7,
      "outputs": []
    },
    {
      "cell_type": "code",
      "source": [
        "#2.Write a Python program to read the contents of a file and print each line.\n",
        "# Open the file in read mode\n",
        "with open('example.txt', 'r') as file:\n",
        "    # Read and print each line from the file\n",
        "    for line in file:\n",
        "        print(line.strip())  # .strip() removes any trailing newline characters\n"
      ],
      "metadata": {
        "colab": {
          "base_uri": "https://localhost:8080/"
        },
        "id": "fSijaTTOX6q0",
        "outputId": "1609bd15-29ee-4f4f-bd73-090e1488d2ee"
      },
      "execution_count": 8,
      "outputs": [
        {
          "output_type": "stream",
          "name": "stdout",
          "text": [
            "Hello, PWSkills.\n"
          ]
        }
      ]
    },
    {
      "cell_type": "code",
      "source": [
        "#3.How would you handle a case where the file doesn't exist while trying to open it for reading?\n",
        "try:\n",
        "    # Attempt to open the file in read mode\n",
        "    with open('example.txt', 'r') as file:\n",
        "        for line in file:\n",
        "            print(line.strip())\n",
        "except FileNotFoundError:\n",
        "    # Handle the case where the file does not exist\n",
        "    print(\"Error: The file 'example.txt' was not found.\")\n"
      ],
      "metadata": {
        "colab": {
          "base_uri": "https://localhost:8080/"
        },
        "id": "1s_3NbYhX688",
        "outputId": "5e9b3e6f-5840-41cd-fc9d-ab1e8b95588f"
      },
      "execution_count": 9,
      "outputs": [
        {
          "output_type": "stream",
          "name": "stdout",
          "text": [
            "Hello, PWSkills.\n"
          ]
        }
      ]
    },
    {
      "cell_type": "code",
      "source": [
        "#4.Write a Python script that reads from one file and writes its content to another file.\n",
        "try:\n",
        "    # Open the source file in read mode\n",
        "    with open('source.txt', 'r') as source_file:\n",
        "        # Open the destination file in write mode\n",
        "        with open('destination.txt', 'w') as destination_file:\n",
        "            # Read content from the source file and write it to the destination file\n",
        "            content = source_file.read()\n",
        "            destination_file.write(content)\n",
        "    print(\"Content successfully copied from source.txt to destination.txt.\")\n",
        "\n",
        "except FileNotFoundError:\n",
        "    print(\"Error: One or both files do not exist.\")\n"
      ],
      "metadata": {
        "colab": {
          "base_uri": "https://localhost:8080/"
        },
        "id": "_Kog0kvyX7DQ",
        "outputId": "b728e9ee-5539-475e-c589-742a03a1e2a3"
      },
      "execution_count": 10,
      "outputs": [
        {
          "output_type": "stream",
          "name": "stdout",
          "text": [
            "Error: One or both files do not exist.\n"
          ]
        }
      ]
    },
    {
      "cell_type": "code",
      "source": [
        "#5.How would you catch and handle division by zero error in Python?\n",
        "try:\n",
        "    # Attempt to divide by zero\n",
        "    result = 10 / 0\n",
        "except ZeroDivisionError:\n",
        "    # Handle the division by zero error\n",
        "    print(\"Error: Division by zero is not allowed.\")\n",
        "else:\n",
        "    # If no error occurs, print the result\n",
        "    print(f\"Result: {result}\")\n"
      ],
      "metadata": {
        "colab": {
          "base_uri": "https://localhost:8080/"
        },
        "id": "LukezQUjX7fj",
        "outputId": "12725877-ca39-470e-ba5d-ea8a90b8d695"
      },
      "execution_count": 11,
      "outputs": [
        {
          "output_type": "stream",
          "name": "stdout",
          "text": [
            "Error: Division by zero is not allowed.\n"
          ]
        }
      ]
    },
    {
      "cell_type": "code",
      "source": [
        "#6.Write a Python program that logs an error message to a log file when a division by zero exception occurs.\n",
        "import logging\n",
        "\n",
        "# Configure the logging to write to a log file\n",
        "logging.basicConfig(filename='error_log.txt', level=logging.ERROR,\n",
        "                    format='%(asctime)s - %(levelname)s - %(message)s')\n",
        "\n",
        "try:\n",
        "    # Attempt to divide by zero\n",
        "    result = 10 / 0\n",
        "except ZeroDivisionError as e:\n",
        "    # Log the error message to the log file\n",
        "    logging.error(f\"Error: Division by zero occurred. {e}\")\n"
      ],
      "metadata": {
        "colab": {
          "base_uri": "https://localhost:8080/"
        },
        "id": "A7TZaJFOX7nG",
        "outputId": "679a1194-89e2-43be-d96b-b67e70e0b11c"
      },
      "execution_count": 12,
      "outputs": [
        {
          "output_type": "stream",
          "name": "stderr",
          "text": [
            "ERROR:root:Error: Division by zero occurred. division by zero\n"
          ]
        }
      ]
    },
    {
      "cell_type": "code",
      "source": [
        "#7.How do you log information at different levels (INFO, ERROR, WARNING) in Python using the logging module?\n",
        "import logging\n",
        "\n",
        "# Configure the logging to write to a log file\n",
        "logging.basicConfig(filename='app_log.txt', level=logging.DEBUG,\n",
        "                    format='%(asctime)s - %(levelname)s - %(message)s')\n",
        "\n",
        "# Log an informational message\n",
        "logging.info('This is an informational message.')\n",
        "\n",
        "# Log a warning message\n",
        "logging.warning('This is a warning message.')\n",
        "\n",
        "# Log an error message\n",
        "logging.error('This is an error message.')\n",
        "\n",
        "# Log a debug message (useful for troubleshooting)\n",
        "logging.debug('This is a debug message.')\n",
        "\n",
        "# Log a critical message\n",
        "logging.critical('This is a critical message.')\n"
      ],
      "metadata": {
        "colab": {
          "base_uri": "https://localhost:8080/"
        },
        "id": "qUwxToOjX7u8",
        "outputId": "0ae08749-f1cf-4635-99e9-c8eab1dfcefc"
      },
      "execution_count": 13,
      "outputs": [
        {
          "output_type": "stream",
          "name": "stderr",
          "text": [
            "WARNING:root:This is a warning message.\n",
            "ERROR:root:This is an error message.\n",
            "CRITICAL:root:This is a critical message.\n"
          ]
        }
      ]
    },
    {
      "cell_type": "code",
      "source": [
        "#8.Write a program to handle a file opening error using exception handling.\n",
        "try:\n",
        "    # Attempt to open a file in read mode\n",
        "    with open('non_existent_file.txt', 'r') as file:\n",
        "        content = file.read()\n",
        "        print(content)\n",
        "\n",
        "except FileNotFoundError:\n",
        "    # Handle the case where the file is not found\n",
        "    print(\"Error: The file 'non_existent_file.txt' does not exist.\")\n",
        "except PermissionError:\n",
        "    # Handle the case where permission is denied to open the file\n",
        "    print(\"Error: You do not have permission to open this file.\")\n",
        "except Exception as e:\n",
        "    # Catch any other unexpected errors\n",
        "    print(f\"An unexpected error occurred: {e}\")\n"
      ],
      "metadata": {
        "colab": {
          "base_uri": "https://localhost:8080/"
        },
        "id": "j2PImFGvX71B",
        "outputId": "46b9f81f-2d44-4a11-f10e-76edf1be917d"
      },
      "execution_count": 14,
      "outputs": [
        {
          "output_type": "stream",
          "name": "stdout",
          "text": [
            "Error: The file 'non_existent_file.txt' does not exist.\n"
          ]
        }
      ]
    },
    {
      "cell_type": "code",
      "source": [
        "#9.How can you read a file line by line and store its content in a list in Python?\n",
        "# Initialize an empty list to store the lines\n",
        "lines = []\n",
        "\n",
        "# Open the file in read mode\n",
        "with open('example.txt', 'r') as file:\n",
        "    # Read each line and append it to the list\n",
        "    lines = file.readlines()\n",
        "\n",
        "# Print the list of lines\n",
        "print(lines)\n"
      ],
      "metadata": {
        "colab": {
          "base_uri": "https://localhost:8080/"
        },
        "id": "ymIonMaeX78y",
        "outputId": "658359f6-e59c-48e1-f2b5-d31e066f0ab2"
      },
      "execution_count": 15,
      "outputs": [
        {
          "output_type": "stream",
          "name": "stdout",
          "text": [
            "['Hello, PWSkills.']\n"
          ]
        }
      ]
    },
    {
      "cell_type": "code",
      "source": [
        "#10.How can you append data to an existing file in Python?\n",
        "# Open the file in append mode\n",
        "with open('example.txt', 'a') as file:\n",
        "    # Append some new data to the file\n",
        "    file.write('This is some new data that will be appended.\\n')\n",
        "\n",
        "print(\"Data appended successfully.\")\n"
      ],
      "metadata": {
        "colab": {
          "base_uri": "https://localhost:8080/"
        },
        "id": "5OoX1swIX9gb",
        "outputId": "4423859f-5aae-4433-d617-1cafbcf91f3a"
      },
      "execution_count": 16,
      "outputs": [
        {
          "output_type": "stream",
          "name": "stdout",
          "text": [
            "Data appended successfully.\n"
          ]
        }
      ]
    },
    {
      "cell_type": "code",
      "source": [
        "#11.Write a Python program that uses a try-except block to handle an error when attempting to access a dictionary key that doesn't exist.\n",
        "# Define a sample dictionary\n",
        "my_dict = {'name': 'Bhagirathsinh', 'age': 25}\n",
        "\n",
        "try:\n",
        "    # Attempt to access a key that may not exist\n",
        "    print(my_dict['address'])\n",
        "except KeyError:\n",
        "    # Handle the case where the key doesn't exist\n",
        "    print(\"Error: The key 'address' does not exist in the dictionary.\")\n"
      ],
      "metadata": {
        "colab": {
          "base_uri": "https://localhost:8080/"
        },
        "id": "IH8kqVSCX9rW",
        "outputId": "be537e2b-fc96-41e2-dc03-e791b5452eaf"
      },
      "execution_count": 18,
      "outputs": [
        {
          "output_type": "stream",
          "name": "stdout",
          "text": [
            "Error: The key 'address' does not exist in the dictionary.\n"
          ]
        }
      ]
    },
    {
      "cell_type": "code",
      "source": [
        "#12. Write a program that demonstrates using multiple except blocks to handle different types of exceptions.\n",
        "try:\n",
        "    # Sample operations that might raise different exceptions\n",
        "    num1 = 10\n",
        "    num2 = 0\n",
        "    result = num1 / num2  # This will raise a ZeroDivisionError\n",
        "\n",
        "    # Trying to access a dictionary with a non-existent key\n",
        "    my_dict = {'name': 'Bhagirathsinh'}\n",
        "    value = my_dict['address']  # This will raise a KeyError\n",
        "\n",
        "    # Trying to convert an invalid string to an integer\n",
        "    invalid_int = int('abc')  # This will raise a ValueError\n",
        "\n",
        "except ZeroDivisionError:\n",
        "    print(\"Error: Division by zero is not allowed.\")\n",
        "except KeyError:\n",
        "    print(\"Error: The key you are trying to access does not exist in the dictionary.\")\n",
        "except ValueError:\n",
        "    print(\"Error: Invalid value. Could not convert string to integer.\")\n",
        "except Exception as e:\n",
        "    print(f\"An unexpected error occurred: {e}\")\n"
      ],
      "metadata": {
        "colab": {
          "base_uri": "https://localhost:8080/"
        },
        "id": "2ytT8b0fX-HE",
        "outputId": "075f7b05-7e7b-49f1-b2b7-a66c9fda307c"
      },
      "execution_count": 20,
      "outputs": [
        {
          "output_type": "stream",
          "name": "stdout",
          "text": [
            "Error: Division by zero is not allowed.\n"
          ]
        }
      ]
    },
    {
      "cell_type": "code",
      "source": [
        "#13.How would you check if a file exists before attempting to read it in Python?\n",
        "import os\n",
        "\n",
        "file_path = 'example.txt'\n",
        "\n",
        "# Check if the file exists\n",
        "if os.path.exists(file_path):\n",
        "    with open(file_path, 'r') as file:\n",
        "        content = file.read()\n",
        "        print(content)\n",
        "else:\n",
        "    print(f\"Error: The file '{file_path}' does not exist.\")\n"
      ],
      "metadata": {
        "colab": {
          "base_uri": "https://localhost:8080/"
        },
        "id": "Fn1vzbxZX-PR",
        "outputId": "8516a468-723c-4cff-eaf8-2b3d7a6328d1"
      },
      "execution_count": 21,
      "outputs": [
        {
          "output_type": "stream",
          "name": "stdout",
          "text": [
            "Hello, PWSkills.This is some new data that will be appended.\n",
            "\n"
          ]
        }
      ]
    },
    {
      "cell_type": "code",
      "source": [
        "#14.Write a program that uses the logging module to log both informational and error messages.\n",
        "import logging\n",
        "\n",
        "# Configure logging settings\n",
        "logging.basicConfig(filename='app_log.txt', level=logging.DEBUG,\n",
        "                    format='%(asctime)s - %(levelname)s - %(message)s')\n",
        "\n",
        "# Log an informational message\n",
        "logging.info('This is an informational message.')\n",
        "\n",
        "# Log an error message\n",
        "logging.error('This is an error message.')\n",
        "\n",
        "# Simulate an error for demonstration\n",
        "try:\n",
        "    # Trying to divide by zero (this will raise an exception)\n",
        "    result = 10 / 0\n",
        "except ZeroDivisionError as e:\n",
        "    # Log the error message when an exception occurs\n",
        "    logging.error(f\"An error occurred: {e}\")\n",
        "\n",
        "print(\"Logging complete. Check 'app_log.txt' for details.\")\n"
      ],
      "metadata": {
        "colab": {
          "base_uri": "https://localhost:8080/"
        },
        "id": "Mj8FTeVKX-0M",
        "outputId": "c07abbe8-8c2e-43e4-b3a2-d05baeebb344"
      },
      "execution_count": 22,
      "outputs": [
        {
          "output_type": "stream",
          "name": "stderr",
          "text": [
            "ERROR:root:This is an error message.\n",
            "ERROR:root:An error occurred: division by zero\n"
          ]
        },
        {
          "output_type": "stream",
          "name": "stdout",
          "text": [
            "Logging complete. Check 'app_log.txt' for details.\n"
          ]
        }
      ]
    },
    {
      "cell_type": "code",
      "source": [
        "#15.Write a Python program that prints the content of a file and handles the case when the file is empty.\n",
        "# Define the file path\n",
        "file_path = 'example.txt'\n",
        "\n",
        "try:\n",
        "    # Open the file in read mode\n",
        "    with open(file_path, 'r') as file:\n",
        "        content = file.read()\n",
        "\n",
        "        # Check if the file is empty\n",
        "        if content:\n",
        "            print(\"File content:\")\n",
        "            print(content)\n",
        "        else:\n",
        "            print(\"The file is empty.\")\n",
        "except FileNotFoundError:\n",
        "    print(f\"Error: The file '{file_path}' does not exist.\")\n",
        "except Exception as e:\n",
        "    print(f\"An unexpected error occurred: {e}\")\n"
      ],
      "metadata": {
        "colab": {
          "base_uri": "https://localhost:8080/"
        },
        "id": "JHylpPfLbu8G",
        "outputId": "47a0310a-62bb-4737-be43-d51343205d03"
      },
      "execution_count": 23,
      "outputs": [
        {
          "output_type": "stream",
          "name": "stdout",
          "text": [
            "File content:\n",
            "Hello, PWSkills.This is some new data that will be appended.\n",
            "\n"
          ]
        }
      ]
    },
    {
      "cell_type": "code",
      "source": [
        "#16.Demonstrate how to use memory profiling to check the memory usage of a small program.\n",
        "#Step 1\n",
        "pip install memory-profiler\n",
        "\n",
        "#Step 2\n",
        "from memory_profiler import profile\n",
        "\n",
        "@profile\n",
        "def test_function():\n",
        "    a = [i for i in range(1000)]\n",
        "    b = [i**2 for i in range(1000)]\n",
        "    c = a + b\n",
        "    return c\n",
        "\n",
        "test_function()\n",
        "\n",
        "#Step 3\n",
        "python -m memory_profiler memory_test.py\n"
      ],
      "metadata": {
        "id": "p678p5kvduaM"
      },
      "execution_count": null,
      "outputs": []
    },
    {
      "cell_type": "code",
      "source": [
        "#17.Write a Python program to create and write a list of numbers to a file, one number per line.\n",
        "# List of numbers to write to the file\n",
        "numbers = [1, 2, 3, 4, 5, 6, 7, 8, 9, 10]\n",
        "\n",
        "# Open a file in write mode ('w')\n",
        "with open('numbers.txt', 'w') as file:\n",
        "    # Iterate through the list and write each number to the file\n",
        "    for number in numbers:\n",
        "        file.write(f\"{number}\\n\")  # Write the number followed by a newline\n",
        "\n",
        "print(\"Numbers have been written to 'numbers.txt'.\")\n",
        "\n",
        "# Read and print the contents of the file to verify\n",
        "with open('numbers.txt', 'r') as file:\n",
        "    content = file.read()\n",
        "    print(\"\\nContents of 'numbers.txt':\")\n",
        "    print(content)"
      ],
      "metadata": {
        "colab": {
          "base_uri": "https://localhost:8080/"
        },
        "id": "y2yzwgGIfE-t",
        "outputId": "1ca0a853-4f91-4336-a19f-f12fd1e7371e"
      },
      "execution_count": 32,
      "outputs": [
        {
          "output_type": "stream",
          "name": "stdout",
          "text": [
            "Numbers have been written to 'numbers.txt'.\n",
            "\n",
            "Contents of 'numbers.txt':\n",
            "1\n",
            "2\n",
            "3\n",
            "4\n",
            "5\n",
            "6\n",
            "7\n",
            "8\n",
            "9\n",
            "10\n",
            "\n"
          ]
        }
      ]
    },
    {
      "cell_type": "code",
      "source": [
        "#18.How would you implement a basic logging setup that logs to a file with rotation after 1MB?\n",
        "import logging\n",
        "from logging.handlers import RotatingFileHandler\n",
        "\n",
        "# Set up the logger\n",
        "logger = logging.getLogger('MyLogger')\n",
        "logger.setLevel(logging.DEBUG)  # Log all messages of level DEBUG and above\n",
        "\n",
        "# Create a rotating file handler with a maximum log file size of 1MB\n",
        "log_handler = RotatingFileHandler('app.log', maxBytes=1e6, backupCount=3)  # 1e6 bytes = 1MB\n",
        "log_handler.setLevel(logging.DEBUG)  # Log messages at DEBUG level and above\n",
        "\n",
        "# Create a formatter to specify the format of the log messages\n",
        "formatter = logging.Formatter('%(asctime)s - %(name)s - %(levelname)s - %(message)s')\n",
        "log_handler.setFormatter(formatter)\n",
        "\n",
        "# Add the handler to the logger\n",
        "logger.addHandler(log_handler)\n",
        "\n",
        "# Example log messages\n",
        "logger.debug('This is a debug message')\n",
        "logger.info('This is an info message')\n",
        "logger.warning('This is a warning message')\n",
        "logger.error('This is an error message')\n",
        "logger.critical('This is a critical message')\n",
        "\n",
        "print(\"Logging is set up with file rotation after 1MB.\")\n"
      ],
      "metadata": {
        "colab": {
          "base_uri": "https://localhost:8080/"
        },
        "id": "AeqkjoEOgDDO",
        "outputId": "e44521cf-83f4-4bfd-cfa6-097797ba1785"
      },
      "execution_count": 33,
      "outputs": [
        {
          "output_type": "stream",
          "name": "stderr",
          "text": [
            "DEBUG:MyLogger:This is a debug message\n",
            "INFO:MyLogger:This is an info message\n",
            "WARNING:MyLogger:This is a warning message\n",
            "ERROR:MyLogger:This is an error message\n",
            "CRITICAL:MyLogger:This is a critical message\n"
          ]
        },
        {
          "output_type": "stream",
          "name": "stdout",
          "text": [
            "Logging is set up with file rotation after 1MB.\n"
          ]
        }
      ]
    },
    {
      "cell_type": "code",
      "source": [
        "#19.Write a program that handles both IndexError and KeyError using a try-except block.\n",
        "# Sample list and dictionary\n",
        "my_list = [1, 2, 3]\n",
        "my_dict = {'name': 'Bhagirathsinh', 'age': 25}\n",
        "\n",
        "# Attempting to access invalid list index and dictionary key\n",
        "try:\n",
        "    # Trying to access an invalid index in the list\n",
        "    print(my_list[5])\n",
        "\n",
        "    # Trying to access a key that doesn't exist in the dictionary\n",
        "    print(my_dict['address'])\n",
        "\n",
        "except IndexError as ie:\n",
        "    print(f\"IndexError: {ie}\")\n",
        "\n",
        "except KeyError as ke:\n",
        "    print(f\"KeyError: {ke}\")\n",
        "\n",
        "\n"
      ],
      "metadata": {
        "colab": {
          "base_uri": "https://localhost:8080/"
        },
        "id": "rAAo3emOfYQM",
        "outputId": "2ea6c248-2cc4-45ec-f5f7-d68f002a30c9"
      },
      "execution_count": 35,
      "outputs": [
        {
          "output_type": "stream",
          "name": "stdout",
          "text": [
            "IndexError: list index out of range\n"
          ]
        }
      ]
    },
    {
      "cell_type": "code",
      "source": [
        "#20.How would you open a file and read its contents using a context manager in Python?\n",
        "# Open a file and read its contents using a context manager\n",
        "with open('example.txt', 'r') as file:\n",
        "    # Read the contents of the file\n",
        "    content = file.read()\n",
        "\n",
        "# Print the contents after the file is closed automatically\n",
        "print(content)\n"
      ],
      "metadata": {
        "colab": {
          "base_uri": "https://localhost:8080/"
        },
        "id": "NepbFpe8hWzH",
        "outputId": "66973ced-faa8-402b-f4e4-d3e5182d8a97"
      },
      "execution_count": 36,
      "outputs": [
        {
          "output_type": "stream",
          "name": "stdout",
          "text": [
            "Hello, PWSkills.This is some new data that will be appended.\n",
            "\n"
          ]
        }
      ]
    },
    {
      "cell_type": "code",
      "source": [
        "#21.Write a Python program that reads a file and prints the number of occurrences of a specific word.\n",
        "# Function to count occurrences of a specific word in a file\n",
        "def count_word_in_file(file_name, word):\n",
        "    try:\n",
        "        # Open the file in read mode\n",
        "        with open(file_name, 'r') as file:\n",
        "            # Read the content of the file\n",
        "            content = file.read()\n",
        "\n",
        "            # Count the occurrences of the word\n",
        "            word_count = content.lower().split().count(word.lower())\n",
        "\n",
        "        # Print the number of occurrences of the word\n",
        "        print(f\"The word '{word}' occurs {word_count} time(s) in the file.\")\n",
        "\n",
        "    except FileNotFoundError:\n",
        "        print(f\"The file '{file_name}' does not exist.\")\n",
        "\n",
        "# Example usage\n",
        "file_name = 'example.txt'  # Replace with your file name\n",
        "word = 'python'  # Replace with the word you want to search for\n",
        "\n",
        "count_word_in_file(file_name, word)\n"
      ],
      "metadata": {
        "colab": {
          "base_uri": "https://localhost:8080/"
        },
        "id": "wx_W0Wd3hmoe",
        "outputId": "f5529042-9022-47d1-d501-772708179607"
      },
      "execution_count": 37,
      "outputs": [
        {
          "output_type": "stream",
          "name": "stdout",
          "text": [
            "The word 'python' occurs 0 time(s) in the file.\n"
          ]
        }
      ]
    },
    {
      "cell_type": "code",
      "source": [
        "#22.How can you check if a file is empty before attempting to read its contents?\n",
        "import os\n",
        "\n",
        "def read_file_if_not_empty(file_name):\n",
        "    try:\n",
        "        # Check if the file exists and is not empty\n",
        "        if os.path.getsize(file_name) > 0:\n",
        "            # Open the file and read its contents\n",
        "            with open(file_name, 'r') as file:\n",
        "                content = file.read()\n",
        "            print(\"File contents:\")\n",
        "            print(content)\n",
        "        else:\n",
        "            print(f\"The file '{file_name}' is empty.\")\n",
        "\n",
        "    except FileNotFoundError:\n",
        "        print(f\"The file '{file_name}' does not exist.\")\n",
        "\n",
        "# Example usage\n",
        "file_name = 'example.txt'  # Replace with your file name\n",
        "read_file_if_not_empty(file_name)\n"
      ],
      "metadata": {
        "colab": {
          "base_uri": "https://localhost:8080/"
        },
        "id": "_wCq-D5Kh4w4",
        "outputId": "3242a0da-debc-4593-b46a-598d0699a416"
      },
      "execution_count": 38,
      "outputs": [
        {
          "output_type": "stream",
          "name": "stdout",
          "text": [
            "File contents:\n",
            "Hello, PWSkills.This is some new data that will be appended.\n",
            "\n"
          ]
        }
      ]
    },
    {
      "cell_type": "code",
      "source": [
        "#23.Write a Python program that writes to a log file when an error occurs during file handling.\n",
        "import logging\n",
        "\n",
        "# Set up logging configuration\n",
        "logging.basicConfig(\n",
        "    filename='file_handling_errors.log',  # Log file to store error messages\n",
        "    level=logging.ERROR,  # Log only error messages and above\n",
        "    format='%(asctime)s - %(levelname)s - %(message)s'  # Log format\n",
        ")\n",
        "\n",
        "def write_to_file(file_name, content):\n",
        "    try:\n",
        "        # Attempting to open and write to a file\n",
        "        with open(file_name, 'w') as file:\n",
        "            file.write(content)\n",
        "        print(\"Content written successfully to the file.\")\n",
        "\n",
        "    except Exception as e:\n",
        "        # Log the error to the log file if an exception occurs\n",
        "        logging.error(f\"Error occurred while handling the file: {e}\")\n",
        "        print(\"An error occurred while writing to the file. Check the log for details.\")\n",
        "\n",
        "# Example usage\n",
        "file_name = 'example.txt'  # Replace with your file name\n",
        "content = \"This is an example of writing content to a file.\"\n",
        "\n",
        "write_to_file(file_name, content)\n"
      ],
      "metadata": {
        "colab": {
          "base_uri": "https://localhost:8080/"
        },
        "id": "5Aa6v35Hitco",
        "outputId": "c91dbed3-fd4e-4003-b359-6b598dcbfa05"
      },
      "execution_count": 39,
      "outputs": [
        {
          "output_type": "stream",
          "name": "stdout",
          "text": [
            "Content written successfully to the file.\n"
          ]
        }
      ]
    }
  ]
}